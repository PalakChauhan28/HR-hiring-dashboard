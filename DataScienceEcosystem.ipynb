{
  "nbformat": 4,
  "nbformat_minor": 0,
  "metadata": {
    "colab": {
      "provenance": [],
      "authorship_tag": "ABX9TyMC+G2860JXe+EqKPFmNFn2",
      "include_colab_link": true
    },
    "kernelspec": {
      "name": "python3",
      "display_name": "Python 3"
    },
    "language_info": {
      "name": "python"
    }
  },
  "cells": [
    {
      "cell_type": "markdown",
      "metadata": {
        "id": "view-in-github",
        "colab_type": "text"
      },
      "source": [
        "<a href=\"https://colab.research.google.com/github/PalakChauhan28/HR-hiring-dashboard/blob/main/DataScienceEcosystem.ipynb\" target=\"_parent\"><img src=\"https://colab.research.google.com/assets/colab-badge.svg\" alt=\"Open In Colab\"/></a>"
      ]
    },
    {
      "cell_type": "markdown",
      "source": [
        "#Data Science Tools and Ecosystem"
      ],
      "metadata": {
        "id": "Feiheppz7IZQ"
      }
    },
    {
      "cell_type": "markdown",
      "source": [
        "In this notebook, Data Science Tools and Ecosystem are summarized."
      ],
      "metadata": {
        "id": "W092Fvk47yrj"
      }
    },
    {
      "cell_type": "markdown",
      "source": [
        "Some of the popular languages that Data Scientists use are:\n",
        "- Python\n",
        "- R\n",
        "- Java\n",
        "- C++"
      ],
      "metadata": {
        "id": "HxhfJSz48Pz8"
      }
    },
    {
      "cell_type": "markdown",
      "source": [
        "Some of the commonly used libraries used by Data Scientists include:\n",
        "- NumPy\n",
        "- Pandas\n",
        "- Matplotlib\n",
        "- Scikit-learn\n",
        "- Seaborn\n",
        "- PyTorch\n",
        "- TensorFlow\n"
      ],
      "metadata": {
        "id": "iCm3-olB9x8y"
      }
    },
    {
      "cell_type": "markdown",
      "source": [
        "|Data Science Tools|\n",
        "|-----------------|\n",
        "|JuPyter Notebook |\n",
        "|VS Code|\n",
        "|RStudio|"
      ],
      "metadata": {
        "id": "51Pnii_L-2sz"
      }
    },
    {
      "cell_type": "markdown",
      "source": [
        "###Below are a few examples of evaluating arithmetic expressions in Python\n",
        "\n"
      ],
      "metadata": {
        "id": "aNlwZAz4_Yno"
      }
    },
    {
      "cell_type": "code",
      "source": [
        "#This a simple arithmetic expression to mutiply then add integers\n",
        "(3*4)+5"
      ],
      "metadata": {
        "colab": {
          "base_uri": "https://localhost:8080/"
        },
        "id": "2fBPxvcN7Kbj",
        "outputId": "dbce382f-f619-4975-eb99-4932942b3ac3"
      },
      "execution_count": 2,
      "outputs": [
        {
          "output_type": "execute_result",
          "data": {
            "text/plain": [
              "17"
            ]
          },
          "metadata": {},
          "execution_count": 2
        }
      ]
    },
    {
      "cell_type": "code",
      "source": [
        "#This will convert 200 minutes to hours by diving by 60\n",
        "print(200/60,\"hrs\")"
      ],
      "metadata": {
        "colab": {
          "base_uri": "https://localhost:8080/"
        },
        "id": "lU75084V_xoX",
        "outputId": "86407da1-ffec-4b22-dc8a-aa94590e69ab"
      },
      "execution_count": 11,
      "outputs": [
        {
          "output_type": "stream",
          "name": "stdout",
          "text": [
            "3.3333333333333335 hrs\n"
          ]
        }
      ]
    },
    {
      "cell_type": "markdown",
      "source": [
        "**Objectives:**\n",
        "- Popular languages of Data Science\n",
        "- Commonly used libraries\n",
        "- Data Science tools\n",
        "- arithmetic expressions in Python"
      ],
      "metadata": {
        "id": "X2gmaAIrA0tn"
      }
    },
    {
      "cell_type": "markdown",
      "source": [
        "##Author\n",
        "Palak Chauhan"
      ],
      "metadata": {
        "id": "KWoshWSrBnw3"
      }
    },
    {
      "cell_type": "code",
      "source": [],
      "metadata": {
        "id": "HsZjyuk7AJrf"
      },
      "execution_count": null,
      "outputs": []
    }
  ]
}